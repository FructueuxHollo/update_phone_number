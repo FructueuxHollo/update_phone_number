{
 "cells": [
  {
   "cell_type": "code",
   "execution_count": 17,
   "id": "09ded699-5473-4bff-a4c0-7c552b49ace8",
   "metadata": {},
   "outputs": [],
   "source": [
    "import pandas as pd\n",
    "import numpy as np "
   ]
  },
  {
   "cell_type": "code",
   "execution_count": null,
   "id": "8b5a7735-1a5a-4be5-a3b1-f1e00184422b",
   "metadata": {},
   "outputs": [],
   "source": [
    "data = pd.read_csv(\"contacts.csv\")\n",
    "data['Phone 2 - Value'] = data['Phone 2 - Value'].apply(lambda x: f\"{x:.0f}\")\n",
    "data['Phone 3 - Value'] = data['Phone 3 - Value'].apply(lambda x: f\"{x:.0f}\")\n",
    "pd.set_option(\"display.max_columns\", None)\n",
    "data.head()"
   ]
  },
  {
   "cell_type": "code",
   "execution_count": null,
   "id": "6d4d3700-bdf0-4a6f-956a-a278a8b276d5",
   "metadata": {},
   "outputs": [],
   "source": [
    "data.shape"
   ]
  },
  {
   "cell_type": "code",
   "execution_count": null,
   "id": "e4a73b2d-10b9-48c9-9d30-a3b625650f47",
   "metadata": {},
   "outputs": [],
   "source": [
    "data.info()"
   ]
  },
  {
   "cell_type": "code",
   "execution_count": null,
   "id": "8e646e5c-3183-455a-a62e-9b4b48307a43",
   "metadata": {},
   "outputs": [],
   "source": [
    "phone_numbers = data[[\"Phone 1 - Value\",\"Phone 2 - Value\",\"Phone 3 - Value\"]]\n",
    "phone_numbers.sample(25)"
   ]
  },
  {
   "cell_type": "code",
   "execution_count": 22,
   "id": "1344adcc-48f2-43b2-b532-684b0565bae1",
   "metadata": {},
   "outputs": [],
   "source": [
    "def update_phone_number(phone_number):\n",
    "    if pd.isna(phone_number) or phone_number == \"nan\":\n",
    "        return np.nan\n",
    "    \n",
    "    #split multiple numbers if present\n",
    "    numbers = [x.strip() for x in str(phone_number).split(\":::\")]\n",
    "\n",
    "    updated_numbers = []\n",
    "    for number in numbers:\n",
    "        #remove all non-numeric characters execpt '+'\n",
    "        number = \"\".join([c for c in number if c.isdigit() or c == \"+\"])\n",
    "\n",
    "        #ensure that number begin with \"+229\"\n",
    "        if number.startswith(\"229\"):\n",
    "            number = \"+\" + number\n",
    "        elif not number.startswith(\"+\"):\n",
    "            number = \"+229\" + number\n",
    "        \n",
    "        #add 01 to eight-digit numbers after +229\n",
    "        if len(number) == 12: \n",
    "            number = number[:4] + \"01\" + number[4:]\n",
    "\n",
    "        updated_numbers.append(number) \n",
    "\n",
    "    return \" ::: \".join(updated_numbers)\n",
    "        "
   ]
  },
  {
   "cell_type": "code",
   "execution_count": null,
   "id": "002b3e93",
   "metadata": {},
   "outputs": [],
   "source": [
    "#Apply the function to the phone numbers\n",
    "for col in phone_numbers.columns:\n",
    "    data[col] = phone_numbers[col].apply(update_phone_number)\n",
    "\n",
    "data[[\"Phone 1 - Value\",\"Phone 2 - Value\",\"Phone 3 - Value\"]].sample(25)"
   ]
  },
  {
   "cell_type": "code",
   "execution_count": null,
   "id": "d5a05260",
   "metadata": {},
   "outputs": [],
   "source": [
    "data.head()"
   ]
  },
  {
   "cell_type": "code",
   "execution_count": 25,
   "id": "1664224a",
   "metadata": {},
   "outputs": [],
   "source": [
    "#export the cleaned data\n",
    "data.to_csv(\"cleaned_contacts.csv\", index=False)"
   ]
  }
 ],
 "metadata": {
  "kernelspec": {
   "display_name": "Python 3",
   "language": "python",
   "name": "python3"
  },
  "language_info": {
   "codemirror_mode": {
    "name": "ipython",
    "version": 3
   },
   "file_extension": ".py",
   "mimetype": "text/x-python",
   "name": "python",
   "nbconvert_exporter": "python",
   "pygments_lexer": "ipython3",
   "version": "3.13.0"
  }
 },
 "nbformat": 4,
 "nbformat_minor": 5
}
